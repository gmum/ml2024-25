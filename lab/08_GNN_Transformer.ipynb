{
 "cells": [
  {
   "metadata": {},
   "cell_type": "markdown",
   "source": [
    "#### Google Colab compatible version\n",
    "The following setup is suitable for Google Colab with T4 GPU.\n",
    "\n",
    "To enable T4 GPU: Connect configuration menu $\\rightarrow$ Change runtime type $\\rightarrow$ Hardware accelerator: T4 GPU"
   ],
   "id": "a1e18eb1ffb8de4f"
  },
  {
   "cell_type": "code",
   "source": [
    "!git clone https://github.com/gmum/ml2024-25.git"
   ],
   "metadata": {
    "id": "SWqMy6ZaNaNh",
    "outputId": "99fd028a-893a-4e33-dbf9-973ba9dce0af",
    "colab": {
     "base_uri": "https://localhost:8080/"
    }
   },
   "id": "SWqMy6ZaNaNh",
   "outputs": [],
   "execution_count": null
  },
  {
   "cell_type": "code",
   "source": [
    "import sys\n",
    "sys.path.append('/content/ml2024-25')  # This ensures import lab.checker later"
   ],
   "metadata": {
    "id": "MYTnYPXiNfeX"
   },
   "id": "MYTnYPXiNfeX",
   "outputs": [],
   "execution_count": null
  },
  {
   "cell_type": "code",
   "source": "!pip install torch==2.4.0 torchvision==0.19.0 torchaudio==2.4.0 --index-url https://download.pytorch.org/whl/cu121",
   "metadata": {
    "id": "VSofaWydPmPQ"
   },
   "id": "VSofaWydPmPQ",
   "outputs": [],
   "execution_count": null
  },
  {
   "cell_type": "code",
   "source": [
    "!pip install  dgl -f https://data.dgl.ai/wheels/torch-2.4/cu121/repo.html"
   ],
   "metadata": {
    "id": "l0xwa3iVNgq6",
    "outputId": "a13191e1-6ab2-4664-bee5-8ce0acb20514",
    "colab": {
     "base_uri": "https://localhost:8080/"
    }
   },
   "id": "l0xwa3iVNgq6",
   "outputs": [],
   "execution_count": null
  },
  {
   "cell_type": "code",
   "source": [
    "!pip install dgllife"
   ],
   "metadata": {
    "id": "HxqjqYJqNhja",
    "outputId": "b6078684-bad3-45eb-8bd1-f488c53fd956",
    "colab": {
     "base_uri": "https://localhost:8080/"
    }
   },
   "id": "HxqjqYJqNhja",
   "outputs": [],
   "execution_count": null
  },
  {
   "cell_type": "code",
   "source": [
    "!pip install torch_geometric\n",
    "!pip install pyg_lib torch_scatter torch_sparse torch_cluster torch_spline_conv -f https://data.pyg.org/whl/torch-2.5.0+cu121.html  # Optional dependencies"
   ],
   "metadata": {
    "id": "-O2Cv_eRNiUg",
    "outputId": "013150ed-87ac-40f6-a7fa-a3ead17b7701",
    "colab": {
     "base_uri": "https://localhost:8080/"
    }
   },
   "id": "-O2Cv_eRNiUg",
   "outputs": [],
   "execution_count": null
  },
  {
   "cell_type": "code",
   "source": [
    "!pip install rdkit==2022.3.5"
   ],
   "metadata": {
    "id": "6laojKTbNjDQ",
    "outputId": "95f69dde-976f-423e-f7e3-c6139eecc74c",
    "colab": {
     "base_uri": "https://localhost:8080/"
    }
   },
   "id": "6laojKTbNjDQ",
   "outputs": [],
   "execution_count": null
  },
  {
   "cell_type": "code",
   "source": [
    "!pip install torchmetrics"
   ],
   "metadata": {
    "id": "QFQ6vZvwNj21",
    "outputId": "40d07779-3cb9-4b73-d1c5-c7b4ea166d87",
    "colab": {
     "base_uri": "https://localhost:8080/"
    }
   },
   "id": "QFQ6vZvwNj21",
   "outputs": [],
   "execution_count": null
  },
  {
   "cell_type": "markdown",
   "source": [
    "# Graph Neural Networks (GNNs)\n",
    "## Part II: Transformer\n",
    "We are going to play with attention in the context for molecular property prediciton. It's recommended that you're familiar with the recent lectures on GNNs and with the previous lab on MPNN in molecular property prediction."
   ],
   "metadata": {
    "collapsed": false,
    "id": "5348b57746426752"
   },
   "id": "5348b57746426752"
  },
  {
   "cell_type": "markdown",
   "source": [
    "# Setup\n",
    "We are going to use the same dataset and most of the codebase as in the previous lab."
   ],
   "metadata": {
    "collapsed": false,
    "id": "2ddf75df96204316"
   },
   "id": "2ddf75df96204316"
  },
  {
   "cell_type": "markdown",
   "source": [
    "## Copied code\n",
    "I'm going to copy most of the code for convenience."
   ],
   "metadata": {
    "collapsed": false,
    "id": "79e432bdca0c548d"
   },
   "id": "79e432bdca0c548d"
  },
  {
   "cell_type": "code",
   "source": [
    "import copy\n",
    "from abc import ABC, abstractmethod\n",
    "from pathlib import Path\n",
    "from typing import Dict, Any, Tuple\n",
    "from typing import Type\n",
    "\n",
    "import dgl\n",
    "import numpy as np\n",
    "import torch\n",
    "from dgl.data import Subset\n",
    "from dgl.dataloading import GraphDataLoader\n",
    "from dgllife.data import FreeSolv\n",
    "from dgllife.utils import CanonicalAtomFeaturizer, SMILESToBigraph\n",
    "from dgllife.utils import ScaffoldSplitter\n",
    "from torch import nn\n",
    "from torch_geometric.utils import to_dense_batch\n",
    "from torchmetrics import Metric\n",
    "from tqdm.autonotebook import tqdm\n",
    "\n",
    "from lab.checker import expected_gat_output, expected_dot_attention_output, sub_optimal_multihead_attention_output, \\\n",
    "    expected_multihead_attention_output"
   ],
   "metadata": {
    "id": "5c423333bf850de1",
    "outputId": "f3e20ef3-3699-444f-eb69-f9f28510a6e8",
    "colab": {
     "base_uri": "https://localhost:8080/",
     "height": 383
    }
   },
   "id": "5c423333bf850de1",
   "outputs": [],
   "execution_count": null
  },
  {
   "cell_type": "code",
   "source": [
    "class LoggerBase(ABC):\n",
    "    def __init__(self, logdir: str | Path):\n",
    "        self.logdir = Path(logdir)\n",
    "        self.logdir.mkdir(parents=True, exist_ok=True)\n",
    "\n",
    "    @abstractmethod\n",
    "    def log_metrics(self, metrics: Dict[str, Any], prefix: str):\n",
    "        ...\n",
    "\n",
    "    @abstractmethod\n",
    "    def close(self):\n",
    "        ...\n",
    "\n",
    "\n",
    "class WandbLogger(LoggerBase):\n",
    "    def __init__(\n",
    "            self, logdir: str | Path, project_name: str, experiment_name: str, **kwargs: Dict[str, Any]\n",
    "    ):\n",
    "        super().__init__(logdir)\n",
    "        import wandb\n",
    "        self.project_name = project_name\n",
    "        self.experiment_name = experiment_name\n",
    "        self.kwargs = kwargs\n",
    "        self.run = wandb.init(\n",
    "            dir=self.logdir,\n",
    "            project=self.project_name,\n",
    "            name=self.experiment_name,\n",
    "            **self.kwargs,\n",
    "        )\n",
    "\n",
    "    def log_metrics(self, metrics: Dict[str, Any], prefix: str):\n",
    "        metrics = {f\"{prefix}/{k}\": v for k, v in metrics.items()}\n",
    "        self.run.log(metrics)\n",
    "\n",
    "    def close(self):\n",
    "        self.run.finish()\n",
    "\n",
    "\n",
    "class DummyLogger(LoggerBase):  # If you don't want to use any logger, you can use this one\n",
    "    def log_metrics(self, metrics: Dict[str, Any], prefix: str):\n",
    "        pass\n",
    "\n",
    "    def close(self):\n",
    "        pass\n",
    "\n",
    "    def restart(self):\n",
    "        pass\n",
    "\n",
    "\n",
    "class MetricList:\n",
    "    def __init__(self, metrics: Dict[str, Metric]):\n",
    "        self.metrics = copy.deepcopy(metrics)\n",
    "\n",
    "    def update(self, preds: torch.Tensor, targets: torch.Tensor) -> None:\n",
    "        for name, metric in self.metrics.items():\n",
    "            metric.update(preds.detach().cpu(), targets.cpu())\n",
    "\n",
    "    def compute(self) -> Dict[str, float]:\n",
    "        metrics = {}\n",
    "        for name, metric_fn in self.metrics.items():\n",
    "            metrics[name] = metric_fn.compute().item()\n",
    "            metric_fn.reset()\n",
    "        return metrics\n",
    "\n",
    "\n",
    "class Trainer:\n",
    "    def __init__(\n",
    "            self,\n",
    "            *,\n",
    "            run_dir: str | Path,\n",
    "            train_dataset: Subset,\n",
    "            valid_dataset: Subset,\n",
    "            train_metrics: Dict[str, Metric],\n",
    "            valid_metrics: Dict[str, Metric],\n",
    "            model: nn.Module,\n",
    "            logger: LoggerBase,\n",
    "            optimizer_kwargs: Dict[str, Any],\n",
    "            optimizer_cls: Type[torch.optim.Optimizer] = torch.optim.Adam,\n",
    "            n_epochs: int,\n",
    "            train_batch_size: int = 32,\n",
    "            valid_batch_size: int = 16,\n",
    "            device: str = \"cuda\",\n",
    "            valid_every_n_epochs: int = 1,\n",
    "            loss_fn=nn.MSELoss()\n",
    "    ):\n",
    "        self.run_dir = Path(run_dir)\n",
    "        self.train_loader = GraphDataLoader(\n",
    "            dataset=train_dataset,\n",
    "            batch_size=train_batch_size,\n",
    "            shuffle=True,\n",
    "        )\n",
    "        self.valid_loader = GraphDataLoader(\n",
    "            dataset=valid_dataset,\n",
    "            batch_size=valid_batch_size,\n",
    "            shuffle=True,\n",
    "        )\n",
    "        self.train_metrics = MetricList(train_metrics)\n",
    "        self.valid_metrics = MetricList(valid_metrics)\n",
    "        self.logger = logger\n",
    "        self.model = model\n",
    "        self.optimizer = optimizer_cls(model.parameters(), **optimizer_kwargs)\n",
    "        self.n_epochs = n_epochs\n",
    "        self.device = device\n",
    "        self.valid_every_n_epochs = valid_every_n_epochs\n",
    "        self.loss_fn = loss_fn\n",
    "        self.model.to(device)\n",
    "\n",
    "    @torch.no_grad()\n",
    "    def validate(self, dataloader: GraphDataLoader, prefix: str) -> Dict[str, float]:\n",
    "        previous_mode = self.model.training\n",
    "        self.model.eval()\n",
    "        losses = []\n",
    "        for _, graphs, labels in dataloader:\n",
    "            graphs = graphs.to(self.device)\n",
    "            labels = labels.to(self.device)\n",
    "            preds = self.model(graphs)\n",
    "            loss = self.loss_fn(preds, labels)\n",
    "            losses.append(loss.item())\n",
    "            self.valid_metrics.update(preds, labels)\n",
    "        self.model.train(mode=previous_mode)\n",
    "        metrics = {\"loss\": np.mean(losses)} | self.valid_metrics.compute()\n",
    "        self.logger.log_metrics(metrics=metrics, prefix=prefix)\n",
    "        return metrics\n",
    "\n",
    "    def train(self) -> Dict[str, float]:\n",
    "        self.model.train()\n",
    "        valid_metrics = {}\n",
    "        for epoch in tqdm(range(self.n_epochs), total=self.n_epochs):\n",
    "            for _, graphs, labels in self.train_loader:\n",
    "                self.optimizer.zero_grad()\n",
    "                graphs = graphs.to(self.device)\n",
    "                labels = labels.to(self.device)\n",
    "                preds = self.model(graphs)\n",
    "                loss = self.loss_fn(preds, labels)\n",
    "                loss.backward()\n",
    "                self.optimizer.step()\n",
    "\n",
    "                self.train_metrics.update(preds, labels)\n",
    "                train_metrics = {\"loss\": loss.item()} | self.train_metrics.compute()\n",
    "                self.logger.log_metrics(metrics=train_metrics, prefix=\"train\")\n",
    "\n",
    "                if epoch % self.valid_every_n_epochs == 0 or epoch == self.n_epochs - 1:\n",
    "                    valid_metrics = self.validate(self.valid_loader, prefix=\"valid\")\n",
    "\n",
    "        return valid_metrics\n",
    "\n",
    "    def test(self, dataset: Subset) -> Dict[str, float]:\n",
    "        dataloader = GraphDataLoader(\n",
    "            dataset=dataset,\n",
    "            batch_size=16,\n",
    "            shuffle=False,\n",
    "        )\n",
    "        return self.validate(dataloader, prefix=\"test\")\n",
    "\n",
    "    def close(self):  # close the logger, not really required for wandb\n",
    "        self.logger.close()"
   ],
   "metadata": {
    "id": "d1609cbd2996b027"
   },
   "id": "d1609cbd2996b027",
   "outputs": [],
   "execution_count": null
  },
  {
   "cell_type": "code",
   "source": [
    "def to_dense_embeddings(node_embeddings: torch.Tensor, graph: dgl.DGLGraph, fill_value: float = 0.0) -> Tuple[\n",
    "    torch.Tensor, torch.Tensor]:\n",
    "    \"\"\"\n",
    "    Converts sparse node embeddings to dense node embeddings with padding.\n",
    "    Arguments:\n",
    "        node_embeddings: node embeddings in a sparse format, i.e. [total_num_nodes, hidden_size]\n",
    "        graph: a batch of graphs\n",
    "        fill_value: a value to fill the padding with\n",
    "    Returns:\n",
    "        node_embeddings: node embeddings in a dense format, i.e. [batch_size, max_num_nodes, hidden_size]\n",
    "        mask: a mask indicating which nodes are real and which are padding, i.e. [batch_size, max_num_nodes]\n",
    "    \"\"\"\n",
    "    num_nodes = graph.batch_num_nodes()  # e.g. [2, 3, 3]\n",
    "    indices = torch.arange(len(num_nodes), device=num_nodes.device)\n",
    "    batch = torch.repeat_interleave(indices, num_nodes).long()  # e.g. [0, 0, 1, 1, 1, 2, 2, 2]\n",
    "    return to_dense_batch(node_embeddings, batch,\n",
    "                          fill_value=fill_value)  # that's the only reason we have torch_geometric in the requirements\n",
    "\n",
    "\n",
    "def to_sparse_embeddings(node_embeddings: torch.Tensor, mask: torch.Tensor) -> torch.Tensor:\n",
    "    \"\"\"\n",
    "    Converts dense node embeddings to sparse node embeddings.\n",
    "    Arguments:\n",
    "        node_embeddings: node embeddings in a dense format, i.e. [batch_size, max_num_nodes, hidden_size]\n",
    "        mask: a mask indicating which nodes are real and which are padding, i.e. [batch_size, max_num_nodes]\n",
    "    Returns:\n",
    "        node_embeddings: node embeddings in a sparse format, i.e. [total_num_nodes, hidden_size]\n",
    "    \"\"\"\n",
    "    return node_embeddings[mask]"
   ],
   "metadata": {
    "id": "8808a77d7c57aed1"
   },
   "id": "8808a77d7c57aed1",
   "outputs": [],
   "execution_count": null
  },
  {
   "cell_type": "code",
   "source": [
    "class ReadoutBase(nn.Module, ABC):\n",
    "    def __init__(self, hidden_size: int):\n",
    "        super().__init__()\n",
    "        self.hidden_size = hidden_size\n",
    "\n",
    "    @abstractmethod\n",
    "    def forward(self, node_embeddings: torch.Tensor, graph: dgl.DGLGraph) -> torch.Tensor:\n",
    "        ...\n",
    "\n",
    "\n",
    "class SumReadout(ReadoutBase):\n",
    "    def forward(self,\n",
    "                node_embeddings: torch.Tensor,\n",
    "                graph: dgl.DGLGraph) -> torch.Tensor:\n",
    "        \"\"\"\n",
    "        Attributes:\n",
    "            node_embeddings: node embeddings in a sparse format, i.e. [total_num_nodes, hidden_size]\n",
    "            graph: a DGLGraph that contains the graph structure\n",
    "        Returns:\n",
    "            graph_embeddings: graph embeddings of shape.[batch_size, hidden_size]\n",
    "        \"\"\"\n",
    "        # We can also use dgl.sum_nodes function, but let assume it's forbidden in that notebook ;)\n",
    "        node_embeddings, _ = to_dense_embeddings(node_embeddings, graph)\n",
    "        return node_embeddings.sum(dim=1)"
   ],
   "metadata": {
    "id": "6071a391cab1d058"
   },
   "id": "6071a391cab1d058",
   "outputs": [],
   "execution_count": null
  },
  {
   "cell_type": "markdown",
   "source": [
    "## Updated code\n",
    "Some of the previous code is slightly updated."
   ],
   "metadata": {
    "collapsed": false,
    "id": "5fc0e088c6c18d87"
   },
   "id": "5fc0e088c6c18d87"
  },
  {
   "cell_type": "code",
   "source": [
    "class GNNLayerBase(ABC, nn.Module):\n",
    "    def _init(self, hidden_size: int):\n",
    "        super().__init__()\n",
    "        self.hidden_size = hidden_size\n",
    "\n",
    "    @abstractmethod\n",
    "    def forward(self,\n",
    "                node_embeddings: torch.Tensor,\n",
    "                mask: torch.Tensor | None,\n",
    "                graph: dgl.DGLGraph) -> torch.Tensor:\n",
    "        ...\n",
    "\n",
    "\n",
    "class GNN(nn.Module):\n",
    "    def __init__(self,\n",
    "                 node_features_size: int,\n",
    "                 hidden_size: int,\n",
    "                 output_size: int,\n",
    "                 gnn_layer_cls: Type[GNNLayerBase],\n",
    "                 gnn_layer_kwargs: Dict[str, Any],\n",
    "                 gnn_n_layers: int,\n",
    "                 gnn_layer_requires_dense: bool,\n",
    "                 readout_cls: Type[ReadoutBase]):\n",
    "        super().__init__()\n",
    "        self.linear_node = nn.Linear(node_features_size, hidden_size)\n",
    "        self.gnn_layers = nn.ModuleList([\n",
    "            gnn_layer_cls(hidden_size=hidden_size, **gnn_layer_kwargs)\n",
    "            for _ in range(gnn_n_layers)\n",
    "        ])\n",
    "        self.readout = readout_cls(hidden_size=hidden_size)\n",
    "        self.mlp = nn.Sequential(\n",
    "            nn.Linear(hidden_size, hidden_size),\n",
    "            nn.GELU(),\n",
    "            nn.Linear(hidden_size, output_size),\n",
    "        )\n",
    "        self.gnn_layer_requires_dense = gnn_layer_requires_dense\n",
    "\n",
    "    def forward(self, graph: dgl.DGLGraph) -> torch.Tensor:\n",
    "        node_embeddings = graph.ndata['h']\n",
    "        node_embeddings = self.linear_node(node_embeddings)\n",
    "        if self.gnn_layer_requires_dense:\n",
    "            node_embeddings, mask = to_dense_embeddings(node_embeddings, graph)\n",
    "        else:\n",
    "            mask = None\n",
    "        for layer in self.gnn_layers:\n",
    "            node_embeddings = layer(node_embeddings=node_embeddings, mask=mask, graph=graph)\n",
    "        if self.gnn_layer_requires_dense:\n",
    "            node_embeddings = to_sparse_embeddings(node_embeddings, mask)\n",
    "        graph_embedding = self.readout(node_embeddings, graph)\n",
    "        predictions = self.mlp(graph_embedding)\n",
    "        return predictions"
   ],
   "metadata": {
    "id": "482754c146bd3073"
   },
   "id": "482754c146bd3073",
   "outputs": [],
   "execution_count": null
  },
  {
   "cell_type": "code",
   "source": [
    "def test_gnn_layer(mpnn_layer_cls: Type[GNNLayerBase], expected_output: torch.Tensor, requires_dense: bool = False):\n",
    "    node_featurizer = CanonicalAtomFeaturizer()\n",
    "    graph_a = SMILESToBigraph(node_featurizer=node_featurizer, add_self_loop=True)(\"CN(C)C(=O)c1ccc(cc1)OC\")\n",
    "    graph_b = SMILESToBigraph(node_featurizer=node_featurizer, add_self_loop=True)(\"CS(=O)(=O)Cl\")\n",
    "    torch.manual_seed(0)\n",
    "    graph = dgl.batch([graph_a, graph_b])\n",
    "    linear_nodes = nn.Linear(node_featurizer.feat_size(), 12)\n",
    "    node_embeddings = linear_nodes(graph.ndata['h'])\n",
    "    layer = mpnn_layer_cls(hidden_size=12)\n",
    "    if requires_dense:\n",
    "        node_embeddings, mask = to_dense_embeddings(node_embeddings, graph)\n",
    "    else:\n",
    "        mask = None\n",
    "    result = layer(node_embeddings=node_embeddings, mask=mask, graph=graph)\n",
    "    assert torch.allclose(result, expected_output, atol=1e-4)"
   ],
   "metadata": {
    "id": "2d82b677d7d9db4c"
   },
   "id": "2d82b677d7d9db4c",
   "outputs": [],
   "execution_count": null
  },
  {
   "cell_type": "markdown",
   "source": [
    "# Attention\n",
    "As you know from the lectures, the Transformer architecture is based on the attention mechanism. However, it's worth noting that attention is not a mechanism from the Transformer architecture, but rather a general concept used many times before. We've actually used some form of attention in the previous lab in `AttentionReadout` class. It was aggregating the information from graph nodes by computing a weighted average of the nodes embeddings using dynamically computed weights. The attention in the Transformer architecture is very similar - the main difference is that attention in Transformer is computed for every token (node) and is used to update the token/node embedding. In the context of graphs, we have a second well-known attention-based architecture called [Graph Attention Network (GAT)](https://arxiv.org/abs/1710.10903). The attention in GAT differs from attention in Transformer in two ways:\n",
    "1. In GAT, the attention for a given node is computed using the node's neighbors while in Transformer it's computed using all other nodes.\n",
    "2. GAT uses additive attention, while Transformer uses (multiheaded) dot-product one.\n",
    "\n",
    "Let's start with implementation of GAT layer."
   ],
   "metadata": {
    "collapsed": false,
    "id": "f029737734a971b4"
   },
   "id": "f029737734a971b4"
  },
  {
   "cell_type": "markdown",
   "source": [
    "## Additive attention (GAT)\n",
    "### Task 1. GATLayer (2 points).\n",
    "Your task is to:\n",
    "1\\) implement a GAT layer which is MPNN that uses attention mechanism for neighbor aggregation. The formula for the update is the following:\n",
    "$$\n",
    "m_i = W_1 x_i\n",
    "$$\n",
    "$$\n",
    "score_{ij} = LeakyReLU(W_2(m_i | m_j)),\n",
    "$$\n",
    "$$\n",
    "\\alpha_{ij} = \\frac{exp(score_{ij})}{\\sum_{k \\in \\mathcal{N}(i) \\cup \\{i\\}} exp(score_{ik})}\n",
    "$$\n",
    "$$\n",
    "x'_i = \\sum_{j \\in \\mathcal{N}(i) \\cup \\{i\\}} \\alpha_{ij} m_j\n",
    "$$\n",
    "where | stands for concatenation. Note that in our code, we added self-loops to the graph, so $\\mathcal{N}(i) \\cup \\{i\\} = \\mathcal{N}(i)$.\n",
    "\n",
    "2\\) Briefly explain why the attention in GAT is called additive:\n",
    "\n",
    "Your explanation: ..."
   ],
   "metadata": {
    "collapsed": false,
    "id": "d0a9a8af402d16ee"
   },
   "id": "d0a9a8af402d16ee"
  },
  {
   "cell_type": "code",
   "source": [
    "class GATLayer(GNNLayerBase):\n",
    "    def __init__(self, hidden_size: int):\n",
    "        super().__init__()\n",
    "        self.hidden_size = hidden_size\n",
    "        self.linear_1 = nn.Linear(hidden_size, hidden_size)\n",
    "        self.linear_2 = nn.Linear(2 * hidden_size, hidden_size)\n",
    "        self.leaky_relu = nn.LeakyReLU()\n",
    "\n",
    "    def forward(self,\n",
    "                node_embeddings: torch.Tensor,\n",
    "                mask: torch.Tensor | None,\n",
    "                graph: dgl.DGLGraph) -> torch.Tensor:\n",
    "        start_nodes, end_nodes = graph.edges(\n",
    "            order='srcdst')  # note that our graph is bi-directed and contains self-loops\n",
    "        messages = self.linear_1(node_embeddings)\n",
    "        messages_i = messages[start_nodes]\n",
    "        messages_j = messages[end_nodes]\n",
    "\n",
    "        ...\n",
    "\n",
    "\n",
    "test_gnn_layer(GATLayer, expected_gat_output)"
   ],
   "metadata": {
    "id": "de5dd48a3fc6580c"
   },
   "id": "de5dd48a3fc6580c",
   "outputs": [],
   "execution_count": null
  },
  {
   "cell_type": "markdown",
   "source": [
    "## Dot-product attention\n",
    "Having the GAT implemented, we can move to the attention used in the Transformer model. It's called \"multi-head dot-product attention\", but for the moment let's focus on the \"dot-product\" part of the name."
   ],
   "metadata": {
    "collapsed": false,
    "id": "7b21c9263771dfe"
   },
   "id": "7b21c9263771dfe"
  },
  {
   "cell_type": "markdown",
   "source": [
    "### Task 2. Dot-product attention (2 points).\n",
    "Your task is to:\n",
    "1\\) implement the dot-product attention given by the following formula:\n",
    "$$\n",
    "v_i = W_v x_i, \\quad k_i = W_k x_i, \\quad q_i = W_q x_i, \\quad W_v, W_k, W_q \\in \\mathbb{R}^{D \\times D}, \\quad x_i \\in \\mathbb{R}^{D}\n",
    "$$\n",
    "$$\n",
    "score_{ij} = \\frac{q_i^T k_j}{\\sqrt{D}}\n",
    "$$\n",
    "$$\n",
    "a_{ij} = \\frac{exp(score_{ij})}{\\sum_{k=1}^n exp(score_{ik})}\n",
    "$$\n",
    "$$\n",
    "x'_i = \\sum_{j=1}^n a_{ij} v_j\n",
    "$$\n",
    "2\\) Briefly explain what's the advantage of dot-product attention over the additive one.\n",
    "Your explanation: ..."
   ],
   "metadata": {
    "collapsed": false,
    "id": "bfb71775af4b9db9"
   },
   "id": "bfb71775af4b9db9"
  },
  {
   "cell_type": "code",
   "source": [
    "class DotProductAttention(GNNLayerBase):\n",
    "    def __init__(self, hidden_size: int, output_size: int | None = None):\n",
    "        super().__init__()\n",
    "        self.hidden_size = hidden_size\n",
    "        self.output_size = output_size or hidden_size\n",
    "        self.linear_v = nn.Linear(hidden_size, self.output_size)\n",
    "        self.linear_k = nn.Linear(hidden_size, self.output_size)\n",
    "        self.linear_q = nn.Linear(hidden_size, self.output_size)\n",
    "        self.sqrt_d = np.sqrt(self.output_size)\n",
    "\n",
    "    def forward(self,\n",
    "                node_embeddings: torch.Tensor,\n",
    "                mask: torch.Tensor,\n",
    "                graph: dgl.DGLGraph) -> torch.Tensor:\n",
    "        \"\"\"\n",
    "        Arguments:\n",
    "            node_embeddings: node embeddings in a dense format, i.e. [batch_size, max_num_nodes, hidden_size]\n",
    "            mask: a mask indicating which nodes are real, i.e. [batch_size, max_num_nodes]\n",
    "        Returns:\n",
    "            node_embeddings: node embeddings in a dense format, i.e. [batch_size, max_num_nodes, hidden_size]\n",
    "        \"\"\"\n",
    "        values = self.linear_v(node_embeddings)\n",
    "        keys = self.linear_k(node_embeddings)\n",
    "        queries = self.linear_q(node_embeddings)\n",
    "\n",
    "        ...\n",
    "\n",
    "\n",
    "torch.set_printoptions(precision=6)\n",
    "test_gnn_layer(DotProductAttention, expected_dot_attention_output, requires_dense=True)"
   ],
   "metadata": {
    "id": "f526e48a689c5e0b"
   },
   "id": "f526e48a689c5e0b",
   "outputs": [],
   "execution_count": null
  },
  {
   "cell_type": "markdown",
   "source": [
    "## Multi-head dot-product attention\n",
    "Great! We can now implement the actual attention used in the Transformer!\n",
    "### Task 3. Multi-head dot-product attention (2 points).\n",
    "Your task is to:\n",
    "1\\) Implement multi-head dot-product attention (in a naive form). Let's parametrize the attention from the previous task with $W_v, W_k, W_q$ matrices so that we can rewrite it:\n",
    "$$\n",
    "x'_i = attention(W_v, W_k, W_q)\n",
    "$$\n",
    "The multi-head attention is a simple concatenation of the outputs of different attentions and is give by the following formula:\n",
    "$$\n",
    "x'_i = concat(attention_1(W_v^{(1)}, W_k^{(1)}, W_q^{(1)}), \\dots, attention_H(W_v^{(H)}, W_k^{(H)}, W_q^{(H)}))W\n",
    "$$\n",
    "where matrices $W_v^{(h)}, W_k^{(h)}, W_q^{(h)} \\in \\mathbb{R}^{(D / H) \\times D}$ are distinct for each head $h \\in \\{1, \\dots, H\\}$ and have reduced output sizes. The matrix $W \\in \\mathbb{R}^{D \\times D}$.\n",
    "2\\) Briefly explain what is the advantage of the multi-head dot-product attention over the (single-head) dot-product one.\n",
    "Your explanation: ...\n"
   ],
   "metadata": {
    "collapsed": false,
    "id": "d343acfdedd08d0e"
   },
   "id": "d343acfdedd08d0e"
  },
  {
   "cell_type": "code",
   "source": [
    "class SuboptimalMultiHeadAttention(GNNLayerBase):\n",
    "    def __init__(self, hidden_size: int, n_heads: int = 3):\n",
    "        super().__init__()\n",
    "        assert hidden_size % n_heads == 0\n",
    "        self.output_linear = nn.Linear(hidden_size, hidden_size)  # the last linear layer (W)\n",
    "        self.attentions = nn.ModuleList()\n",
    "        for _ in range(n_heads):\n",
    "            attention = DotProductAttention(\n",
    "                ...\n",
    "            )\n",
    "            self.attentions.append(attention)\n",
    "\n",
    "    def forward(self,\n",
    "                node_embeddings: torch.Tensor,\n",
    "                mask: torch.Tensor,\n",
    "                graph: dgl.DGLGraph) -> torch.Tensor:\n",
    "        ...\n",
    "\n",
    "\n",
    "test_gnn_layer(SuboptimalMultiHeadAttention, sub_optimal_multihead_attention_output, requires_dense=True)"
   ],
   "metadata": {
    "id": "e4630245780b0520"
   },
   "id": "e4630245780b0520",
   "outputs": [],
   "execution_count": null
  },
  {
   "cell_type": "markdown",
   "source": [
    "### Task 4. Multi-head dot-product attention (2 points).\n",
    "The attention from the previous task works, but requires to loop over `n_attention` heads. We can avoid that! Your task is to implement multi-head dot-product attention defined in the previous task in a batch-manner (without using loops)."
   ],
   "metadata": {
    "collapsed": false,
    "id": "9729ec99e9d044ea"
   },
   "id": "9729ec99e9d044ea"
  },
  {
   "cell_type": "code",
   "source": [
    "class MultiHeadAttention(GNNLayerBase):\n",
    "    def __init__(self, hidden_size: int, n_heads: int = 3):\n",
    "        super().__init__()\n",
    "        assert hidden_size % n_heads == 0\n",
    "        self.hidden_size = hidden_size\n",
    "        self.n_heads = n_heads\n",
    "        self.linear_v = nn.Linear(hidden_size, hidden_size)\n",
    "        self.linear_k = nn.Linear(hidden_size, hidden_size)\n",
    "        self.linear_q = nn.Linear(hidden_size, hidden_size)\n",
    "        self.linear_out = nn.Linear(hidden_size, hidden_size)\n",
    "        self.sqrt_d = np.sqrt(hidden_size // n_heads)\n",
    "\n",
    "    def forward(self,\n",
    "                node_embeddings: torch.Tensor,\n",
    "                mask: torch.Tensor,\n",
    "                graph: dgl.DGLGraph) -> torch.Tensor:\n",
    "        \"\"\"\n",
    "        Arguments:\n",
    "            node_embeddings: node embeddings in a dense format, i.e. [batch_size, max_num_nodes, hidden_size]\n",
    "            mask: a mask indicating which nodes are real, i.e. [batch_size, max_num_nodes]\n",
    "        Returns:\n",
    "            node_embeddings: node embeddings in a dense format, i.e. [batch_size, max_num_nodes, hidden_size]\n",
    "        \"\"\"\n",
    "        values = self.linear_v(node_embeddings)\n",
    "        keys = self.linear_k(node_embeddings)\n",
    "        queries = self.linear_q(node_embeddings)\n",
    "\n",
    "        values = values.reshape(values.shape[0], values.shape[1], self.n_heads,\n",
    "                                -1)  # [batch_size, max_num_nodes, n_heads, hidden_size // n_heads]\n",
    "        keys = keys.reshape(keys.shape[0], keys.shape[1], self.n_heads,\n",
    "                            -1)  # [batch_size, max_num_nodes, n_heads, hidden_size // n_heads]\n",
    "        queries = queries.reshape(queries.shape[0], queries.shape[1], self.n_heads,\n",
    "                                  -1)  # [batch_size, max_num_nodes, n_heads, hidden_size // n_heads]\n",
    "        values = values.transpose(-2, -3)  # [batch_size, n_heads, max_num_nodes, hidden_size // n_heads]\n",
    "        keys = keys.transpose(-2, -3)  # [batch_size, n_heads, max_num_nodes, hidden_size // n_heads]\n",
    "        queries = queries.transpose(-2, -3)  # [batch_size, n_heads, max_num_nodes, hidden_size // n_heads]\n",
    "\n",
    "        ...\n",
    "\n",
    "\n",
    "test_gnn_layer(MultiHeadAttention, expected_multihead_attention_output, requires_dense=True)"
   ],
   "metadata": {
    "id": "ba21c935ca28de42"
   },
   "id": "ba21c935ca28de42",
   "outputs": [],
   "execution_count": null
  },
  {
   "cell_type": "markdown",
   "source": [
    "# Transformer\n",
    "We have implemented the attention mechanism. Transformer also consist of other parts but they're rather boring and here's the implementation:\n"
   ],
   "metadata": {
    "collapsed": false,
    "id": "1831a36671fc22ad"
   },
   "id": "1831a36671fc22ad"
  },
  {
   "cell_type": "code",
   "source": [
    "class TransformerLayer(GNNLayerBase):\n",
    "    def __init__(self, hidden_size: int, n_heads: int = 4):\n",
    "        super().__init__()\n",
    "        self.hidden_size = hidden_size\n",
    "        self.attention = MultiHeadAttention(hidden_size=hidden_size, n_heads=n_heads)\n",
    "        self.norm_1 = nn.LayerNorm(hidden_size)\n",
    "        self.feed_forward = nn.Sequential(\n",
    "            nn.Linear(hidden_size, hidden_size),\n",
    "            nn.GELU(),\n",
    "            nn.Linear(hidden_size, hidden_size),\n",
    "        )\n",
    "        self.norm_2 = nn.LayerNorm(hidden_size)\n",
    "\n",
    "    def forward(self,\n",
    "                node_embeddings: torch.Tensor,\n",
    "                mask: torch.Tensor,\n",
    "                graph: dgl.DGLGraph) -> torch.Tensor:\n",
    "        node_embeddings = self.attention(node_embeddings, mask, graph) + node_embeddings\n",
    "        node_embeddings = self.norm_1(node_embeddings)\n",
    "        node_embeddings = self.feed_forward(node_embeddings) + node_embeddings\n",
    "        node_embeddings = self.norm_2(node_embeddings)\n",
    "        node_embeddings = torch.masked_fill(node_embeddings, ~mask.unsqueeze(-1), 0.0)\n",
    "        return node_embeddings"
   ],
   "metadata": {
    "id": "867fc56c03dce698"
   },
   "id": "867fc56c03dce698",
   "outputs": [],
   "execution_count": null
  },
  {
   "cell_type": "markdown",
   "source": [
    "## Expressiveness of a Transformer as GNN\n",
    "Let's play for a while with the expressiveness of a TransformerLayer in a GNN. For that purpose, let us simplify the graph featurizer used to transform a SMILES to a graph as much as possible, so that the featurized graph contains only the information about the atom tyoe."
   ],
   "metadata": {
    "collapsed": false,
    "id": "23e4eb54dd80f7f1"
   },
   "id": "23e4eb54dd80f7f1"
  },
  {
   "cell_type": "code",
   "source": [
    "from dgllife.utils import BaseAtomFeaturizer, ConcatFeaturizer, atom_type_one_hot\n",
    "\n",
    "atom_type_featurizer = BaseAtomFeaturizer(\n",
    "    featurizer_funcs={\n",
    "        \"h\": ConcatFeaturizer([atom_type_one_hot]),\n",
    "    }\n",
    ")\n",
    "smiles_to_graph_simple = SMILESToBigraph(\n",
    "    node_featurizer=atom_type_featurizer,\n",
    "    add_self_loop=True,\n",
    ")"
   ],
   "metadata": {
    "id": "38de5b1c72850c4f"
   },
   "id": "38de5b1c72850c4f",
   "outputs": [],
   "execution_count": null
  },
  {
   "cell_type": "markdown",
   "source": [
    "Let us also define some GNN constructor wrappers for convenience:"
   ],
   "metadata": {
    "collapsed": false,
    "id": "db9a6076f9a98a"
   },
   "id": "db9a6076f9a98a"
  },
  {
   "cell_type": "code",
   "source": [
    "def transformer_gnn(node_features_size: int, n_layers: int) -> GNN:\n",
    "    return GNN(\n",
    "        node_features_size=node_features_size,\n",
    "        hidden_size=64,\n",
    "        output_size=1,\n",
    "        gnn_layer_cls=TransformerLayer,\n",
    "        gnn_layer_kwargs={},\n",
    "        gnn_n_layers=n_layers,\n",
    "        gnn_layer_requires_dense=True,\n",
    "        readout_cls=SumReadout,\n",
    "    )\n",
    "\n",
    "\n",
    "def gat_gnn(node_features_size: int, n_layers: int) -> GNN:\n",
    "    return GNN(\n",
    "        node_features_size=node_features_size,\n",
    "        hidden_size=64,\n",
    "        output_size=1,\n",
    "        gnn_layer_cls=GATLayer,\n",
    "        gnn_layer_kwargs={},\n",
    "        gnn_n_layers=n_layers,\n",
    "        gnn_layer_requires_dense=False,\n",
    "        readout_cls=SumReadout,\n",
    "    )\n"
   ],
   "metadata": {
    "id": "e26eba5e28ca0243"
   },
   "id": "e26eba5e28ca0243",
   "outputs": [],
   "execution_count": null
  },
  {
   "cell_type": "markdown",
   "source": [
    "And define two molecules that are pretty dissimilar:"
   ],
   "metadata": {
    "collapsed": false,
    "id": "eda57840c03d7afd"
   },
   "id": "eda57840c03d7afd"
  },
  {
   "cell_type": "code",
   "source": [
    "from rdkit.Chem import MolFromSmiles\n",
    "\n",
    "smiles_a = \"NSCCN\"\n",
    "MolFromSmiles(smiles_a)"
   ],
   "metadata": {
    "id": "6fd3d0946ae2c05"
   },
   "id": "6fd3d0946ae2c05",
   "outputs": [],
   "execution_count": null
  },
  {
   "cell_type": "code",
   "source": [
    "smiles_b = \"NS(CC)N\"\n",
    "MolFromSmiles(smiles_b)"
   ],
   "metadata": {
    "id": "df34e6eb7b9b042c"
   },
   "id": "df34e6eb7b9b042c",
   "outputs": [],
   "execution_count": null
  },
  {
   "cell_type": "code",
   "source": [
    "graph_a = smiles_to_graph_simple(smiles_a)\n",
    "graph_b = smiles_to_graph_simple(smiles_b)\n",
    "batch = dgl.batch([graph_a, graph_b])"
   ],
   "metadata": {
    "id": "cc86171486e10508"
   },
   "id": "cc86171486e10508",
   "outputs": [],
   "execution_count": null
  },
  {
   "cell_type": "markdown",
   "source": [
    "### Task 5. Expressiveness of a Transformer as a GNN (2 points).\n",
    "Using the code provided below, run few experiments and answer the following questions:\n",
    "1. Explain why the Transformer-based GNN can (or cannot) distinguish between the two molecules.\n",
    "2. Why can (or cannot) we make the Transformer-based GNN to distinguish between the molecules by manipulating the number of layers?\n",
    "3. Explain why the GAT-based GNN can (or cannot) distinguish between the two molecules.\n",
    "4. Why can (or cannot) we make the GAT-based GNN to distinguish between the molecules by manipulating the number of layers?"
   ],
   "metadata": {
    "collapsed": false,
    "id": "c00d11652b85d1fb"
   },
   "id": "c00d11652b85d1fb"
  },
  {
   "cell_type": "code",
   "source": [
    "transformer = transformer_gnn(node_features_size=atom_type_featurizer.feat_size(), n_layers=30)\n",
    "transformer(batch)"
   ],
   "metadata": {
    "id": "5fae8178804eb3f"
   },
   "id": "5fae8178804eb3f",
   "outputs": [],
   "execution_count": null
  },
  {
   "cell_type": "code",
   "source": [
    "gat = gat_gnn(node_features_size=atom_type_featurizer.feat_size(), n_layers=30)\n",
    "gat(batch)"
   ],
   "metadata": {
    "id": "a13dd9ec9efb90b4"
   },
   "id": "a13dd9ec9efb90b4",
   "outputs": [],
   "execution_count": null
  },
  {
   "cell_type": "markdown",
   "source": [
    "# Positional Encodings\n",
    "As you finished the previous task, you know that our Transformer-based GNN cannot distinguish between the two molecules, and you know the exact reason. To overcome that reason, we can use structural encodings which are the analog of positional encodings used in the original textual Transformer. The purpose of the structural encoding is to encode the structure of a graph into the initial node features. For example, we can use the random walk positional encoding from dgllife package: [RandomWalkPE](https://docs.dgl.ai/en/1.1.x/generated/dgl.transforms.RandomWalkPE.html):\n"
   ],
   "metadata": {
    "collapsed": false,
    "id": "5c82f3260a0c2850"
   },
   "id": "5c82f3260a0c2850"
  },
  {
   "cell_type": "code",
   "source": [
    "from dgllife.utils.mol_to_graph import construct_bigraph_from_mol\n",
    "from dgl import random_walk_pe\n",
    "from rdkit import Chem\n",
    "\n",
    "\n",
    "class PositionalEncodingFeaturizerBase:\n",
    "    @abstractmethod\n",
    "    def feat_size(self) -> int:\n",
    "        pass\n",
    "\n",
    "\n",
    "class JointFeaturizer:\n",
    "    def __init__(self, atom_featurizer: BaseAtomFeaturizer, pe_featurizer: PositionalEncodingFeaturizerBase):\n",
    "        self.atom_featurizer = atom_featurizer\n",
    "        self.pe_featurizer = pe_featurizer\n",
    "\n",
    "    def feat_size(self) -> int:\n",
    "        return self.atom_featurizer.feat_size() + self.pe_featurizer.feat_size()\n",
    "\n",
    "    def __call__(self, mol: Chem.Mol):\n",
    "        atom_features = self.atom_featurizer(mol)['h']\n",
    "        pe_features = self.pe_featurizer(mol)\n",
    "        return {'h': torch.cat([atom_features, pe_features], dim=-1)}\n",
    "\n",
    "\n",
    "class RandomWalkPEFeaturizer(PositionalEncodingFeaturizerBase):\n",
    "    def __init__(self, n_steps: int = 16):\n",
    "        self.n_steps = n_steps\n",
    "\n",
    "    def feat_size(self) -> int:\n",
    "        return self.n_steps\n",
    "\n",
    "    def __call__(self, mol: Chem.Mol):\n",
    "        graph = construct_bigraph_from_mol(mol)\n",
    "        return random_walk_pe(\n",
    "            graph, k=self.n_steps\n",
    "        )\n"
   ],
   "metadata": {
    "id": "ddceef663c774550"
   },
   "id": "ddceef663c774550",
   "outputs": [],
   "execution_count": null
  },
  {
   "cell_type": "markdown",
   "source": [
    "## Task 6. Random walk. (1 points).\n",
    "Given the following code:\n",
    "```\n",
    "smiles = 'C1CCC2CCCCC2C1'\n",
    "mol = MolFromSmiles(smiles)\n",
    "output = RandomWalkPEFeaturizer(n_steps=16)(mol)\n",
    "```\n",
    "Briefly explain the meaning of the `output[i, k]` value. Is it a probability of some event? What is the event?"
   ],
   "metadata": {
    "collapsed": false,
    "id": "524c9eca4085690b"
   },
   "id": "524c9eca4085690b"
  },
  {
   "cell_type": "code",
   "source": [
    "node_pe_featurizer = JointFeaturizer(\n",
    "    atom_featurizer=atom_type_featurizer,\n",
    "    pe_featurizer=RandomWalkPEFeaturizer(n_steps=16),\n",
    ")\n",
    "smiles_to_graph_pe = SMILESToBigraph(\n",
    "    node_featurizer=node_pe_featurizer,\n",
    "    add_self_loop=True,\n",
    ")"
   ],
   "metadata": {
    "id": "65c90e737702c5c9"
   },
   "id": "65c90e737702c5c9",
   "outputs": [],
   "execution_count": null
  },
  {
   "cell_type": "markdown",
   "source": [
    "We can now observe the effect of the positional encodings on the Transformer-based GNN:"
   ],
   "metadata": {
    "collapsed": false,
    "id": "e1159b480bf8318a"
   },
   "id": "e1159b480bf8318a"
  },
  {
   "cell_type": "code",
   "source": [
    "graph_a = smiles_to_graph_pe(smiles_a)\n",
    "graph_b = smiles_to_graph_pe(smiles_b)\n",
    "batch = dgl.batch([graph_a, graph_b])\n",
    "transformer = transformer_gnn(node_features_size=node_pe_featurizer.feat_size(), n_layers=3)\n",
    "transformer(batch)"
   ],
   "metadata": {
    "id": "fc3d7cc36db923c2"
   },
   "id": "fc3d7cc36db923c2",
   "outputs": [],
   "execution_count": null
  },
  {
   "cell_type": "markdown",
   "source": [
    "## Random Walk and expressiveness of MPNNs\n",
    "Using random walk as a positional encoding can also help MPNN to be more expressive (distinguish more non-isomorphic graphs)."
   ],
   "metadata": {
    "collapsed": false,
    "id": "325168c4a48f62e8"
   },
   "id": "325168c4a48f62e8"
  },
  {
   "cell_type": "code",
   "source": [
    "smiles_a = 'C1CCC2CCCCC2C1'\n",
    "MolFromSmiles(smiles_a)"
   ],
   "metadata": {
    "id": "b495d6fbe406181d"
   },
   "id": "b495d6fbe406181d",
   "outputs": [],
   "execution_count": null
  },
  {
   "cell_type": "code",
   "source": [
    "smiles_b = 'C1CCC(C1)C2CCCC2'\n",
    "MolFromSmiles(smiles_b)"
   ],
   "metadata": {
    "id": "7a40bd3dea5767d"
   },
   "id": "7a40bd3dea5767d",
   "outputs": [],
   "execution_count": null
  },
  {
   "cell_type": "markdown",
   "source": [
    "### Task 7. Expressiveness of a MPNN (2 points).\n",
    "Using the code provided below, run few experiments and answer the following questions:\n",
    "1. Explain why the GAT-based GNN can (or cannot) distinguish between the two molecules.\n",
    "2. Explain why the Transformer-based GNN with random walk positional encodings can (or cannot) distinguish between the two molecules.\n",
    "3. Explain why the GAT-based GNN with random walk positional encodings can (or cannot) distinguish between the two molecules."
   ],
   "metadata": {
    "collapsed": false,
    "id": "2308b8a27ebcd713"
   },
   "id": "2308b8a27ebcd713"
  },
  {
   "cell_type": "code",
   "source": [
    "graph_a = smiles_to_graph_simple(smiles_a)\n",
    "graph_b = smiles_to_graph_simple(smiles_b)\n",
    "batch = dgl.batch([graph_a, graph_b])\n",
    "gat = gat_gnn(node_features_size=atom_type_featurizer.feat_size(), n_layers=3)\n",
    "gat(batch)"
   ],
   "metadata": {
    "id": "e0f9bad16b6026e8"
   },
   "id": "e0f9bad16b6026e8",
   "outputs": [],
   "execution_count": null
  },
  {
   "cell_type": "code",
   "source": [
    "graph_a = smiles_to_graph_pe(smiles_a)\n",
    "graph_b = smiles_to_graph_pe(smiles_b)\n",
    "batch = dgl.batch([graph_a, graph_b])\n",
    "transformer = transformer_gnn(node_features_size=node_pe_featurizer.feat_size(), n_layers=3)\n",
    "transformer(batch)"
   ],
   "metadata": {
    "id": "c0e56cf32385de74"
   },
   "id": "c0e56cf32385de74",
   "outputs": [],
   "execution_count": null
  },
  {
   "cell_type": "code",
   "source": [
    "graph_a = smiles_to_graph_pe(smiles_a)\n",
    "graph_b = smiles_to_graph_pe(smiles_b)\n",
    "batch = dgl.batch([graph_a, graph_b])\n",
    "gat = gat_gnn(node_features_size=node_pe_featurizer.feat_size(), n_layers=3)\n",
    "gat(batch)"
   ],
   "metadata": {
    "id": "7afa6857d6a27b8f"
   },
   "id": "7afa6857d6a27b8f",
   "outputs": [],
   "execution_count": null
  },
  {
   "cell_type": "markdown",
   "source": [
    "# Experiments\n",
    "Ok, now we can quickly play with the Transformer-based and GAT-based GNNs and see how it performs on the molecular property prediction task."
   ],
   "metadata": {
    "collapsed": false,
    "id": "2f73a37520e03b08"
   },
   "id": "2f73a37520e03b08"
  },
  {
   "cell_type": "code",
   "source": [
    "from datetime import datetime\n",
    "from torchmetrics import MeanAbsoluteError as MAE\n",
    "from torchmetrics import MeanSquaredError as MSE\n",
    "from torchmetrics import PearsonCorrCoef as PCC\n",
    "\n",
    "metrics = {\n",
    "    \"mae\": MAE(),\n",
    "    \"mse\": MSE(),\n",
    "    \"pcc\": PCC(),\n",
    "}\n",
    "\n",
    "\n",
    "def get_time_stamp() -> str:\n",
    "    return datetime.now().strftime(\"%Y-%m-%d_%H-%M-%S\")"
   ],
   "metadata": {
    "id": "cc8e67041a8ce0ef"
   },
   "id": "cc8e67041a8ce0ef",
   "outputs": [],
   "execution_count": null
  },
  {
   "cell_type": "markdown",
   "source": [
    "## Task 8. Train GAT (2 points).\n",
    "1. Tune hyperparameters of a GNN with `GAT` as a layer to obtain at most 2.0 MAE on the validation set. You can modify the GNN/MPNN architecture so it uses regularization tricks. You can also change the featurization functions. Don't change the validation batch size. If your validation MAE is in (2.0, 2.5], you can obtain 1 point.\n",
    "2. Report the obtained MAE on the validation and test set (only the former need to be lower than 2.0 MAE).\n",
    "3. Provide the link to the final run: [your link]"
   ],
   "metadata": {
    "collapsed": false,
    "id": "150ba1690f21ae1"
   },
   "id": "150ba1690f21ae1"
  },
  {
   "cell_type": "code",
   "source": [
    "node_featurizer = CanonicalAtomFeaturizer()\n",
    "dataset = FreeSolv(\n",
    "    smiles_to_graph=SMILESToBigraph(\n",
    "        node_featurizer=node_featurizer,\n",
    "        add_self_loop=True,\n",
    "    )\n",
    ")\n",
    "splitter = ScaffoldSplitter()\n",
    "train, valid, test = splitter.train_val_test_split(dataset)  # it's deterministic\n",
    "\n",
    "model = GNN(\n",
    "    node_features_size=node_featurizer.feat_size(),\n",
    "    hidden_size=64,\n",
    "    output_size=1,\n",
    "    gnn_layer_cls=GATLayer,\n",
    "    gnn_layer_kwargs={},\n",
    "    gnn_n_layers=4,\n",
    "    gnn_layer_requires_dense=False,\n",
    "    readout_cls=SumReadout,\n",
    ")\n",
    "\n",
    "trainer = Trainer(\n",
    "    run_dir=\"experiments\",\n",
    "    train_dataset=train,\n",
    "    valid_dataset=valid,\n",
    "    train_metrics=metrics,\n",
    "    valid_metrics=metrics,\n",
    "    train_batch_size=32,\n",
    "    model=model,\n",
    "    logger=WandbLogger(\n",
    "        logdir=\"runs/mpnn\",\n",
    "        project_name=\"mldd23\",\n",
    "        experiment_name=f\"gat_{get_time_stamp()}\",\n",
    "    ),\n",
    "    optimizer_kwargs={\"lr\": 1e-4},\n",
    "    n_epochs=100,\n",
    "    device=\"cpu\",\n",
    "    valid_every_n_epochs=1,\n",
    ")\n",
    "\n",
    "valid_metrics = trainer.train()\n",
    "test_metrics = trainer.test(test)\n",
    "trainer.close()\n",
    "print(f\"Validation metrics: {valid_metrics}\")\n",
    "print(f\"Test metrics: {test_metrics}\")"
   ],
   "metadata": {
    "id": "88d133d593488f17"
   },
   "id": "88d133d593488f17",
   "outputs": [],
   "execution_count": null
  },
  {
   "cell_type": "markdown",
   "source": [
    "## Task 9. Train Transformer (2 points).\n",
    "1. Tune hyperparameters of a GNN with `Transformer` as a layer to obtain at most 2.0 MAE on the validation set. You can modify the GNN/MPNN architecture so it uses regularization tricks. You can also change the featurization functions. Don't change the validation batch size. If your validation MAE is in (2.0, 2.5], you can obtain 1 point.\n",
    "2. Report the obtained MAE on the validation and test set (only the former need to be lower than 2.0 MAE).\n",
    "3. Provide the link to the final run: [your link]"
   ],
   "metadata": {
    "collapsed": false,
    "id": "8daf4b31a12b2d44"
   },
   "id": "8daf4b31a12b2d44"
  },
  {
   "cell_type": "code",
   "source": [
    "node_featurizer = CanonicalAtomFeaturizer()\n",
    "dataset = FreeSolv(\n",
    "    smiles_to_graph=SMILESToBigraph(\n",
    "        node_featurizer=node_featurizer,\n",
    "        add_self_loop=True,\n",
    "    )\n",
    ")\n",
    "splitter = ScaffoldSplitter()\n",
    "train, valid, test = splitter.train_val_test_split(dataset)  # it's deterministic\n",
    "\n",
    "model = GNN(\n",
    "    node_features_size=node_featurizer.feat_size(),\n",
    "    hidden_size=64,\n",
    "    output_size=1,\n",
    "    gnn_layer_cls=TransformerLayer,\n",
    "    gnn_layer_kwargs={},\n",
    "    gnn_n_layers=4,\n",
    "    gnn_layer_requires_dense=True,\n",
    "    readout_cls=SumReadout,\n",
    ")\n",
    "\n",
    "trainer = Trainer(\n",
    "    run_dir=\"experiments\",\n",
    "    train_dataset=train,\n",
    "    valid_dataset=valid,\n",
    "    train_metrics=metrics,\n",
    "    valid_metrics=metrics,\n",
    "    train_batch_size=32,\n",
    "    model=model,\n",
    "    logger=WandbLogger(\n",
    "        logdir=\"runs/mpnn\",\n",
    "        project_name=\"mldd23\",\n",
    "        experiment_name=f\"transformer_{get_time_stamp()}\",\n",
    "    ),\n",
    "    optimizer_kwargs={\"lr\": 1e-4},\n",
    "    n_epochs=100,\n",
    "    device=\"cpu\",\n",
    "    valid_every_n_epochs=1,\n",
    ")\n",
    "\n",
    "valid_metrics = trainer.train()\n",
    "test_metrics = trainer.test(test)\n",
    "trainer.close()\n",
    "print(f\"Validation metrics: {valid_metrics}\")\n",
    "print(f\"Test metrics: {test_metrics}\")"
   ],
   "metadata": {
    "id": "48dee744e7245865"
   },
   "id": "48dee744e7245865",
   "outputs": [],
   "execution_count": null
  }
 ],
 "metadata": {
  "kernelspec": {
   "display_name": "Python 3",
   "name": "python3"
  },
  "language_info": {
   "codemirror_mode": {
    "name": "ipython",
    "version": 2
   },
   "file_extension": ".py",
   "mimetype": "text/x-python",
   "name": "python",
   "nbconvert_exporter": "python",
   "pygments_lexer": "ipython2",
   "version": "2.7.6"
  },
  "colab": {
   "provenance": [],
   "gpuType": "T4"
  },
  "accelerator": "GPU"
 },
 "nbformat": 4,
 "nbformat_minor": 5
}
